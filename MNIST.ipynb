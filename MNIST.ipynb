{
 "cells": [
  {
   "cell_type": "code",
   "execution_count": 1,
   "id": "88f39653",
   "metadata": {},
   "outputs": [],
   "source": [
    "from keras.datasets import mnist\n",
    "(x_train, y_train), (x_test, y_test) = mnist.load_data()"
   ]
  },
  {
   "cell_type": "code",
   "execution_count": 2,
   "id": "7f443c0d",
   "metadata": {},
   "outputs": [],
   "source": [
    "x_train = x_train.reshape(60000, 28, 28, 1)/255\n",
    "x_test = x_test.reshape(10000, 28, 28, 1)/255"
   ]
  },
  {
   "cell_type": "code",
   "execution_count": 3,
   "id": "b7bd246b",
   "metadata": {},
   "outputs": [],
   "source": [
    "from keras.models import Sequential\n",
    "model = Sequential()"
   ]
  },
  {
   "cell_type": "code",
   "execution_count": 4,
   "id": "e7fb30cd",
   "metadata": {},
   "outputs": [],
   "source": [
    "from keras.layers import Conv2D\n",
    "model.add(Conv2D(28, (3,3), input_shape=(28, 28, 1), activation='relu'))"
   ]
  },
  {
   "cell_type": "code",
   "execution_count": 5,
   "id": "eabe2414",
   "metadata": {},
   "outputs": [],
   "source": [
    "from keras.layers import MaxPooling2D\n",
    "model.add(MaxPooling2D(pool_size=(2,2)))"
   ]
  },
  {
   "cell_type": "code",
   "execution_count": 6,
   "id": "0e720523",
   "metadata": {},
   "outputs": [],
   "source": [
    "from keras.layers import Flatten\n",
    "model.add(Flatten())"
   ]
  },
  {
   "cell_type": "code",
   "execution_count": 7,
   "id": "45ecf120",
   "metadata": {},
   "outputs": [],
   "source": [
    "from keras.layers import Dense\n",
    "model.add(Dense(units = 128, activation = 'relu'))"
   ]
  },
  {
   "cell_type": "code",
   "execution_count": 8,
   "id": "edf379c1",
   "metadata": {},
   "outputs": [],
   "source": [
    "model.add(Dense(units = 10, activation = 'softmax'))"
   ]
  },
  {
   "cell_type": "code",
   "execution_count": 9,
   "id": "75d4e7a6",
   "metadata": {},
   "outputs": [],
   "source": [
    "model.compile(optimizer = 'adam', loss = 'sparse_categorical_crossentropy', metrics = ['accuracy'])"
   ]
  },
  {
   "cell_type": "code",
   "execution_count": 10,
   "id": "29bc9472",
   "metadata": {},
   "outputs": [
    {
     "name": "stdout",
     "output_type": "stream",
     "text": [
      "Epoch 1/100\n",
      "1875/1875 [==============================] - 19s 10ms/step - loss: 0.1589 - accuracy: 0.9528\n",
      "Epoch 2/100\n",
      "1875/1875 [==============================] - 16s 9ms/step - loss: 0.0524 - accuracy: 0.9837\n",
      "Epoch 3/100\n",
      "1875/1875 [==============================] - 19s 10ms/step - loss: 0.0344 - accuracy: 0.9890\n",
      "Epoch 4/100\n",
      "1875/1875 [==============================] - 17s 9ms/step - loss: 0.0224 - accuracy: 0.9928\n",
      "Epoch 5/100\n",
      "1875/1875 [==============================] - 16s 9ms/step - loss: 0.0157 - accuracy: 0.9951\n",
      "Epoch 6/100\n",
      "1875/1875 [==============================] - 16s 9ms/step - loss: 0.0108 - accuracy: 0.9966\n",
      "Epoch 7/100\n",
      "1875/1875 [==============================] - 17s 9ms/step - loss: 0.0083 - accuracy: 0.9972\n",
      "Epoch 8/100\n",
      "1875/1875 [==============================] - 17s 9ms/step - loss: 0.0062 - accuracy: 0.9981\n",
      "Epoch 9/100\n",
      "1875/1875 [==============================] - 16s 9ms/step - loss: 0.0062 - accuracy: 0.9979\n",
      "Epoch 10/100\n",
      "1875/1875 [==============================] - 17s 9ms/step - loss: 0.0050 - accuracy: 0.9984\n",
      "Epoch 11/100\n",
      "1875/1875 [==============================] - 17s 9ms/step - loss: 0.0039 - accuracy: 0.9988\n",
      "Epoch 12/100\n",
      "1875/1875 [==============================] - 17s 9ms/step - loss: 0.0038 - accuracy: 0.9987\n",
      "Epoch 13/100\n",
      "1875/1875 [==============================] - 17s 9ms/step - loss: 0.0039 - accuracy: 0.9986\n",
      "Epoch 14/100\n",
      "1875/1875 [==============================] - 17s 9ms/step - loss: 0.0026 - accuracy: 0.9991\n",
      "Epoch 15/100\n",
      "1875/1875 [==============================] - 17s 9ms/step - loss: 0.0031 - accuracy: 0.9989\n",
      "Epoch 16/100\n",
      "1875/1875 [==============================] - 17s 9ms/step - loss: 0.0029 - accuracy: 0.9992\n",
      "Epoch 17/100\n",
      "1875/1875 [==============================] - 18s 10ms/step - loss: 0.0020 - accuracy: 0.9994\n",
      "Epoch 18/100\n",
      "1875/1875 [==============================] - 17s 9ms/step - loss: 0.0027 - accuracy: 0.9992\n",
      "Epoch 19/100\n",
      "1875/1875 [==============================] - 17s 9ms/step - loss: 0.0019 - accuracy: 0.9994\n",
      "Epoch 20/100\n",
      "1875/1875 [==============================] - 17s 9ms/step - loss: 0.0011 - accuracy: 0.9997\n",
      "Epoch 21/100\n",
      "1875/1875 [==============================] - 17s 9ms/step - loss: 0.0031 - accuracy: 0.9990\n",
      "Epoch 22/100\n",
      "1875/1875 [==============================] - 16s 9ms/step - loss: 0.0016 - accuracy: 0.9994\n",
      "Epoch 23/100\n",
      "1875/1875 [==============================] - 16s 9ms/step - loss: 0.0016 - accuracy: 0.9995\n",
      "Epoch 24/100\n",
      "1875/1875 [==============================] - 16s 9ms/step - loss: 7.2267e-04 - accuracy: 0.9998\n",
      "Epoch 25/100\n",
      "1875/1875 [==============================] - 16s 9ms/step - loss: 0.0032 - accuracy: 0.9991\n",
      "Epoch 26/100\n",
      "1875/1875 [==============================] - 16s 9ms/step - loss: 0.0017 - accuracy: 0.9994\n",
      "Epoch 27/100\n",
      "1875/1875 [==============================] - 16s 9ms/step - loss: 0.0017 - accuracy: 0.9995\n",
      "Epoch 28/100\n",
      "1875/1875 [==============================] - 17s 9ms/step - loss: 0.0013 - accuracy: 0.9996\n",
      "Epoch 29/100\n",
      "1875/1875 [==============================] - 17s 9ms/step - loss: 0.0014 - accuracy: 0.9995\n",
      "Epoch 30/100\n",
      "1875/1875 [==============================] - 16s 9ms/step - loss: 0.0015 - accuracy: 0.9996\n",
      "Epoch 31/100\n",
      "1875/1875 [==============================] - 16s 9ms/step - loss: 0.0014 - accuracy: 0.9996\n",
      "Epoch 32/100\n",
      "1875/1875 [==============================] - 16s 9ms/step - loss: 7.5978e-04 - accuracy: 0.9997\n",
      "Epoch 33/100\n",
      "1875/1875 [==============================] - 16s 9ms/step - loss: 0.0010 - accuracy: 0.9997\n",
      "Epoch 34/100\n",
      "1875/1875 [==============================] - 16s 9ms/step - loss: 0.0023 - accuracy: 0.9994\n",
      "Epoch 35/100\n",
      "1875/1875 [==============================] - 16s 9ms/step - loss: 1.7430e-04 - accuracy: 0.9999\n",
      "Epoch 36/100\n",
      "1875/1875 [==============================] - 17s 9ms/step - loss: 0.0027 - accuracy: 0.9992\n",
      "Epoch 37/100\n",
      "1875/1875 [==============================] - 16s 9ms/step - loss: 0.0012 - accuracy: 0.9996\n",
      "Epoch 38/100\n",
      "1875/1875 [==============================] - 16s 9ms/step - loss: 0.0019 - accuracy: 0.9995\n",
      "Epoch 39/100\n",
      "1875/1875 [==============================] - 16s 9ms/step - loss: 0.0011 - accuracy: 0.9997\n",
      "Epoch 40/100\n",
      "1875/1875 [==============================] - 16s 9ms/step - loss: 3.8130e-04 - accuracy: 0.9999\n",
      "Epoch 41/100\n",
      "1875/1875 [==============================] - 16s 9ms/step - loss: 0.0021 - accuracy: 0.9995\n",
      "Epoch 42/100\n",
      "1875/1875 [==============================] - 18s 9ms/step - loss: 0.0016 - accuracy: 0.9995\n",
      "Epoch 43/100\n",
      "1875/1875 [==============================] - 18s 9ms/step - loss: 3.3061e-04 - accuracy: 0.9998\n",
      "Epoch 44/100\n",
      "1875/1875 [==============================] - 17s 9ms/step - loss: 8.8689e-04 - accuracy: 0.9998\n",
      "Epoch 45/100\n",
      "1875/1875 [==============================] - 16s 9ms/step - loss: 0.0019 - accuracy: 0.9995\n",
      "Epoch 46/100\n",
      "1875/1875 [==============================] - 16s 9ms/step - loss: 9.8047e-04 - accuracy: 0.9998\n",
      "Epoch 47/100\n",
      "1875/1875 [==============================] - 16s 9ms/step - loss: 6.1317e-04 - accuracy: 0.9999\n",
      "Epoch 48/100\n",
      "1875/1875 [==============================] - 16s 9ms/step - loss: 0.0020 - accuracy: 0.9995\n",
      "Epoch 49/100\n",
      "1875/1875 [==============================] - 17s 9ms/step - loss: 0.0010 - accuracy: 0.9998\n",
      "Epoch 50/100\n",
      "1875/1875 [==============================] - 19s 10ms/step - loss: 2.2102e-04 - accuracy: 0.9999\n",
      "Epoch 51/100\n",
      "1875/1875 [==============================] - 18s 10ms/step - loss: 8.1441e-04 - accuracy: 0.9998\n",
      "Epoch 52/100\n",
      "1875/1875 [==============================] - 18s 10ms/step - loss: 9.8033e-04 - accuracy: 0.9997\n",
      "Epoch 53/100\n",
      "1875/1875 [==============================] - 17s 9ms/step - loss: 2.9181e-05 - accuracy: 1.0000\n",
      "Epoch 54/100\n",
      "1875/1875 [==============================] - 17s 9ms/step - loss: 9.1513e-07 - accuracy: 1.0000\n",
      "Epoch 55/100\n",
      "1875/1875 [==============================] - 17s 9ms/step - loss: 3.2656e-07 - accuracy: 1.0000\n",
      "Epoch 56/100\n",
      "1875/1875 [==============================] - 17s 9ms/step - loss: 1.8335e-07 - accuracy: 1.0000\n",
      "Epoch 57/100\n",
      "1875/1875 [==============================] - 17s 9ms/step - loss: 1.0362e-07 - accuracy: 1.0000\n",
      "Epoch 58/100\n",
      "1875/1875 [==============================] - 17s 9ms/step - loss: 5.5072e-08 - accuracy: 1.0000\n",
      "Epoch 59/100\n",
      "1875/1875 [==============================] - 17s 9ms/step - loss: 2.9109e-08 - accuracy: 1.0000\n",
      "Epoch 60/100\n",
      "1875/1875 [==============================] - 17s 9ms/step - loss: 1.4979e-08 - accuracy: 1.0000\n",
      "Epoch 61/100\n",
      "1875/1875 [==============================] - 17s 9ms/step - loss: 8.1559e-09 - accuracy: 1.0000\n",
      "Epoch 62/100\n",
      "1875/1875 [==============================] - 17s 9ms/step - loss: 4.5399e-09 - accuracy: 1.0000\n",
      "Epoch 63/100\n",
      "1875/1875 [==============================] - 17s 9ms/step - loss: 2.5451e-09 - accuracy: 1.0000\n",
      "Epoch 64/100\n",
      "1875/1875 [==============================] - 17s 9ms/step - loss: 1.5597e-09 - accuracy: 1.0000\n",
      "Epoch 65/100\n",
      "1875/1875 [==============================] - 17s 9ms/step - loss: 1.0033e-09 - accuracy: 1.0000\n",
      "Epoch 66/100\n",
      "1875/1875 [==============================] - 17s 9ms/step - loss: 5.7419e-10 - accuracy: 1.0000\n",
      "Epoch 67/100\n",
      "1875/1875 [==============================] - 17s 9ms/step - loss: 3.9736e-10 - accuracy: 1.0000\n",
      "Epoch 68/100\n",
      "1875/1875 [==============================] - 17s 9ms/step - loss: 2.8014e-10 - accuracy: 1.0000\n",
      "Epoch 69/100\n",
      "1875/1875 [==============================] - 17s 9ms/step - loss: 2.3643e-10 - accuracy: 1.0000\n",
      "Epoch 70/100\n",
      "1875/1875 [==============================] - 17s 9ms/step - loss: 2.0067e-10 - accuracy: 1.0000\n",
      "Epoch 71/100\n",
      "1875/1875 [==============================] - 17s 9ms/step - loss: 1.5895e-10 - accuracy: 1.0000\n",
      "Epoch 72/100\n",
      "1875/1875 [==============================] - 17s 9ms/step - loss: 1.4901e-10 - accuracy: 1.0000\n",
      "Epoch 73/100\n",
      "1875/1875 [==============================] - 17s 9ms/step - loss: 1.1921e-10 - accuracy: 1.0000\n",
      "Epoch 74/100\n",
      "1875/1875 [==============================] - 17s 9ms/step - loss: 1.1126e-10 - accuracy: 1.0000\n",
      "Epoch 75/100\n",
      "1875/1875 [==============================] - 17s 9ms/step - loss: 8.9407e-11 - accuracy: 1.0000\n",
      "Epoch 76/100\n",
      "1875/1875 [==============================] - 17s 9ms/step - loss: 8.7420e-11 - accuracy: 1.0000\n",
      "Epoch 77/100\n"
     ]
    },
    {
     "name": "stdout",
     "output_type": "stream",
     "text": [
      "1875/1875 [==============================] - 16s 9ms/step - loss: 7.9473e-11 - accuracy: 1.0000\n",
      "Epoch 78/100\n",
      "1875/1875 [==============================] - 17s 9ms/step - loss: 6.9539e-11 - accuracy: 1.0000\n",
      "Epoch 79/100\n",
      "1875/1875 [==============================] - 17s 9ms/step - loss: 6.3578e-11 - accuracy: 1.0000\n",
      "Epoch 80/100\n",
      "1875/1875 [==============================] - 16s 9ms/step - loss: 5.7618e-11 - accuracy: 1.0000\n",
      "Epoch 81/100\n",
      "1875/1875 [==============================] - 16s 9ms/step - loss: 4.3710e-11 - accuracy: 1.0000\n",
      "Epoch 82/100\n",
      "1875/1875 [==============================] - 16s 9ms/step - loss: 4.3710e-11 - accuracy: 1.0000\n",
      "Epoch 83/100\n",
      "1875/1875 [==============================] - 16s 9ms/step - loss: 4.7684e-11 - accuracy: 1.0000\n",
      "Epoch 84/100\n",
      "1875/1875 [==============================] - 16s 9ms/step - loss: 4.3710e-11 - accuracy: 1.0000\n",
      "Epoch 85/100\n",
      "1875/1875 [==============================] - 16s 9ms/step - loss: 4.7684e-11 - accuracy: 1.0000\n",
      "Epoch 86/100\n",
      "1875/1875 [==============================] - 18s 9ms/step - loss: 3.3776e-11 - accuracy: 1.0000\n",
      "Epoch 87/100\n",
      "1875/1875 [==============================] - 16s 9ms/step - loss: 3.7750e-11 - accuracy: 1.0000\n",
      "Epoch 88/100\n",
      "1875/1875 [==============================] - 16s 9ms/step - loss: 2.7815e-11 - accuracy: 1.0000\n",
      "Epoch 89/100\n",
      "1875/1875 [==============================] - 16s 9ms/step - loss: 2.9802e-11 - accuracy: 1.0000\n",
      "Epoch 90/100\n",
      "1875/1875 [==============================] - 16s 9ms/step - loss: 1.9868e-11 - accuracy: 1.0000\n",
      "Epoch 91/100\n",
      "1875/1875 [==============================] - 16s 9ms/step - loss: 2.7815e-11 - accuracy: 1.0000\n",
      "Epoch 92/100\n",
      "1875/1875 [==============================] - 16s 9ms/step - loss: 1.7881e-11 - accuracy: 1.0000\n",
      "Epoch 93/100\n",
      "1875/1875 [==============================] - 17s 9ms/step - loss: 3.1789e-11 - accuracy: 1.0000\n",
      "Epoch 94/100\n",
      "1875/1875 [==============================] - 17s 9ms/step - loss: 1.9868e-11 - accuracy: 1.0000\n",
      "Epoch 95/100\n",
      "1875/1875 [==============================] - 17s 9ms/step - loss: 1.9868e-11 - accuracy: 1.0000\n",
      "Epoch 96/100\n",
      "1875/1875 [==============================] - 16s 9ms/step - loss: 2.3842e-11 - accuracy: 1.0000\n",
      "Epoch 97/100\n",
      "1875/1875 [==============================] - 16s 9ms/step - loss: 1.1921e-11 - accuracy: 1.0000\n",
      "Epoch 98/100\n",
      "1875/1875 [==============================] - 16s 9ms/step - loss: 1.7881e-11 - accuracy: 1.0000\n",
      "Epoch 99/100\n",
      "1875/1875 [==============================] - 16s 9ms/step - loss: 1.5895e-11 - accuracy: 1.0000\n",
      "Epoch 100/100\n",
      "1875/1875 [==============================] - 17s 9ms/step - loss: 1.9868e-11 - accuracy: 1.0000\n"
     ]
    },
    {
     "data": {
      "text/plain": [
       "<keras.callbacks.History at 0x1f105a361f0>"
      ]
     },
     "execution_count": 10,
     "metadata": {},
     "output_type": "execute_result"
    }
   ],
   "source": [
    "model.fit(x_train, y_train, epochs = 100)"
   ]
  },
  {
   "cell_type": "code",
   "execution_count": 11,
   "id": "f9ea4fa4",
   "metadata": {},
   "outputs": [
    {
     "name": "stdout",
     "output_type": "stream",
     "text": [
      "313/313 [==============================] - 1s 2ms/step\n"
     ]
    }
   ],
   "source": [
    "y_pred = model.predict(x_test)"
   ]
  },
  {
   "cell_type": "code",
   "execution_count": 14,
   "id": "85898213",
   "metadata": {},
   "outputs": [
    {
     "name": "stdout",
     "output_type": "stream",
     "text": [
      "313/313 [==============================] - 1s 2ms/step - loss: 0.1476 - accuracy: 0.9884\n",
      "Loss: 0.14761492609977722 Accuracy: 0.9883999824523926\n"
     ]
    }
   ],
   "source": [
    "loss, accuracy = model.evaluate(x_test, y_test)\n",
    "print(f'Loss: {loss} Accuracy: {accuracy}')"
   ]
  },
  {
   "cell_type": "code",
   "execution_count": null,
   "id": "ce2c7b03",
   "metadata": {},
   "outputs": [],
   "source": []
  }
 ],
 "metadata": {
  "kernelspec": {
   "display_name": "Python 3 (ipykernel)",
   "language": "python",
   "name": "python3"
  },
  "language_info": {
   "codemirror_mode": {
    "name": "ipython",
    "version": 3
   },
   "file_extension": ".py",
   "mimetype": "text/x-python",
   "name": "python",
   "nbconvert_exporter": "python",
   "pygments_lexer": "ipython3",
   "version": "3.9.12"
  }
 },
 "nbformat": 4,
 "nbformat_minor": 5
}
